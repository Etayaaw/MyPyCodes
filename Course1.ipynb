{
 "cells": [
  {
   "cell_type": "markdown",
   "metadata": {},
   "source": [
    "ГЛАВА 1"
   ]
  },
  {
   "cell_type": "code",
   "execution_count": null,
   "metadata": {},
   "outputs": [],
   "source": [
    "number = 14\n",
    "for i in range(100):\n",
    "    print(f\"{i} = {number} * {i//number} + {i % number}\")\n",
    "    print(f\"    {i} % {number} = {i % number}\")"
   ]
  },
  {
   "cell_type": "code",
   "execution_count": 3,
   "metadata": {},
   "outputs": [
    {
     "data": {
      "text/plain": [
       "0.5"
      ]
     },
     "execution_count": 3,
     "metadata": {},
     "output_type": "execute_result"
    }
   ],
   "source": [
    "5e-1"
   ]
  },
  {
   "cell_type": "code",
   "execution_count": 4,
   "metadata": {},
   "outputs": [
    {
     "data": {
      "text/plain": [
       "2"
      ]
     },
     "execution_count": 4,
     "metadata": {},
     "output_type": "execute_result"
    }
   ],
   "source": [
    "int(2.99)"
   ]
  },
  {
   "cell_type": "code",
   "execution_count": 5,
   "metadata": {},
   "outputs": [
    {
     "data": {
      "text/plain": [
       "-1"
      ]
     },
     "execution_count": 5,
     "metadata": {},
     "output_type": "execute_result"
    }
   ],
   "source": [
    "int(-1.6)"
   ]
  },
  {
   "cell_type": "code",
   "execution_count": 6,
   "metadata": {},
   "outputs": [
    {
     "data": {
      "text/plain": [
       "0.8999999999999999"
      ]
     },
     "execution_count": 6,
     "metadata": {},
     "output_type": "execute_result"
    }
   ],
   "source": [
    "0.3+0.3+0.3"
   ]
  },
  {
   "cell_type": "code",
   "execution_count": 6,
   "metadata": {},
   "outputs": [
    {
     "name": "stdout",
     "output_type": "stream",
     "text": [
      "Hello, Etayaaw\n"
     ]
    }
   ],
   "source": [
    "print('Hello,',input('Enter your name: '))"
   ]
  },
  {
   "cell_type": "code",
   "execution_count": 7,
   "metadata": {},
   "outputs": [
    {
     "name": "stdout",
     "output_type": "stream",
     "text": [
      "390\n"
     ]
    }
   ],
   "source": [
    "'''Тимофей обычно спит ночью XX часов и устраивает себе днем тихий час на YY минут. Определите, сколько всего минут Тимофей спит в сутки.'''\n",
    "X = 6 #int(input())\n",
    "Y = 30 #int(input())\n",
    "print(X*60 + Y)"
   ]
  },
  {
   "cell_type": "code",
   "execution_count": 10,
   "metadata": {},
   "outputs": [
    {
     "name": "stdout",
     "output_type": "stream",
     "text": [
      "8\n",
      "34\n"
     ]
    }
   ],
   "source": [
    "'''Коля каждый день ложится спать ровно в полночь и недавно узнал, что оптимальное время для его сна составляет XX минут.\n",
    "Коля хочет поставить себе будильник так, чтобы он прозвенел ровно через XX минут после полуночи, однако для этого необходимо\n",
    "указать время сигнала в формате часы, минуты. Помогите Коле определить, на какое время завести будильник.'''\n",
    "x = 514 #int(input())\n",
    "print(x//60)\n",
    "print(x%60)"
   ]
  },
  {
   "cell_type": "code",
   "execution_count": 11,
   "metadata": {},
   "outputs": [
    {
     "name": "stdout",
     "output_type": "stream",
     "text": [
      "11\n",
      "12\n"
     ]
    }
   ],
   "source": [
    "'''Катя узнала, что ей для сна надо XX минут. В отличие от Коли, Катя ложится спать после полуночи в HH часов и MM минут.\n",
    "Помогите Кате определить, на какое время ей поставить будильник, чтобы он прозвенел ровно через XX минут после того, как она ляжет спать.'''\n",
    "x = 600 #int(input())\n",
    "h = 1 #int(input())\n",
    "m = 12 #int(input())\n",
    "temp = h * 60 + m + x\n",
    "print(temp//60)\n",
    "print(temp%60)"
   ]
  },
  {
   "cell_type": "code",
   "execution_count": 12,
   "metadata": {},
   "outputs": [
    {
     "name": "stdout",
     "output_type": "stream",
     "text": [
      "Это нормально\n"
     ]
    }
   ],
   "source": [
    "'''Из передачи “Здоровье” Аня узнала, что рекомендуется спать хотя бы AA часов в сутки, но пересыпать тоже вредно и не стоит\n",
    "спать более BB часов. Сейчас Аня спит HH часов в сутки. Если режим сна Ани удовлетворяет рекомендациям передачи “Здоровье”,\n",
    "выведите “Это нормально”. Если Аня спит менее AA часов, выведите “Недосып”, если же более BB часов, то выведите “Пересып”.'''\n",
    "a = 6 #int(input())\n",
    "b = 8 #int(input())\n",
    "h = 7 #int(input()) # 7 for 'Это нормально', 5 for 'Недосып', 9 for 'Пересып'\n",
    "if h < a:\n",
    "    print('Недосып')\n",
    "elif h > b:\n",
    "    print('Пересып')\n",
    "else:\n",
    "    print('Это нормально')"
   ]
  },
  {
   "cell_type": "code",
   "execution_count": null,
   "metadata": {},
   "outputs": [],
   "source": [
    "'''Оптимизированное решение предыдущей задачи. Их комментов, код выглядит так себе, если чество, зато в две строки'''\n",
    "a, b, h = (int(input()) for _ in range(3))\n",
    "print('Это нормально'*(a <= h <= b) + 'Недосып'*(h < a) + 'Пересып'*(h > b))"
   ]
  },
  {
   "cell_type": "code",
   "execution_count": 16,
   "metadata": {},
   "outputs": [
    {
     "name": "stdout",
     "output_type": "stream",
     "text": [
      "Обычный\n"
     ]
    }
   ],
   "source": [
    "'''Требуется определить, является ли данный год високосным.\n",
    "Напомним, что високосными годами считаются те годы, порядковый номер которых либо кратен 4, но при этом не кратен 100,\n",
    "либо кратен 400 (например, 2000-й год являлся високосным, а 2100-й будет невисокосным годом).'''\n",
    "year = 2022 #int(input()) #2014 for 'Обычный', 2000 or 2004 for 'Високосный'\n",
    "if year % 400 == 0:\n",
    "    print('Високосный')\n",
    "elif year % 4 == 0 and year % 100 != 0:\n",
    "    print('Високосный')\n",
    "else:\n",
    "    print('Обычный')"
   ]
  },
  {
   "cell_type": "code",
   "execution_count": 17,
   "metadata": {},
   "outputs": [
    {
     "name": "stdout",
     "output_type": "stream",
     "text": [
      "4.14578098794425\n"
     ]
    }
   ],
   "source": [
    "'''В то далёкое время, когда Паша ходил в школу, ему очень не нравилась формула Герона для вычисления площади треугольника,\n",
    "так как казалась слишком сложной. В один прекрасный момент Павел решил избавить всех школьников от страданий и написать и\n",
    "распространить по школам программу, вычисляющую площадь треугольника по трём сторонам.'''\n",
    "a = 3 #int(input())\n",
    "b = 5 #int(input())\n",
    "c = 3 #int(input())\n",
    "p = (a + b + c) / 2\n",
    "print((p * (p - a) * (p - b) * (p - c)) ** 0.5)"
   ]
  },
  {
   "cell_type": "code",
   "execution_count": 11,
   "metadata": {},
   "outputs": [
    {
     "name": "stdout",
     "output_type": "stream",
     "text": [
      "True\n"
     ]
    }
   ],
   "source": [
    "'''Напишите программу, принимающую на вход целое число, которая выводит True, если переданное значение попадает в интервал\n",
    "(-15, 12] \\cup (14, 17) \\cup [19, +\\infty)(−15,12]∪(14,17)∪[19,+∞) и False в противном случае (регистр символов имеет значение).'''\n",
    "x = 1 #int(input())\n",
    "print((x > -15 and x <= 12) or (x > 14 and x < 17) or x >= 19)"
   ]
  },
  {
   "cell_type": "code",
   "execution_count": 18,
   "metadata": {},
   "outputs": [
    {
     "name": "stdout",
     "output_type": "stream",
     "text": [
      "25.0\n"
     ]
    }
   ],
   "source": [
    "'''Напишите простой калькулятор, который считывает с пользовательского ввода три строки: первое число, второе число и операцию,\n",
    "после чего применяет операцию к введённым числам (\"первое число\" \"операция\" \"второе число\") и выводит результат на экран.'''\n",
    "a = 2.5 #float(input())\n",
    "b = 10 #float(input())\n",
    "x = '*' #str(input())\n",
    "if x == '+':\n",
    "    print(a + b)\n",
    "elif x == '-':\n",
    "    print(a - b)\n",
    "elif x == '/':\n",
    "    if b != 0:\n",
    "        print(a / b)\n",
    "    else: print('Деление на 0!')\n",
    "elif x == '*':\n",
    "    print(a * b)\n",
    "elif x == 'mod':\n",
    "    if b != 0:\n",
    "        print(a % b)\n",
    "    else: print('Деление на 0!')\n",
    "elif x == 'pow':\n",
    "    print(a ** b)\n",
    "elif x == 'div':\n",
    "    if b != 0:\n",
    "        print(a // b)\n",
    "    else: print('Деление на 0!')"
   ]
  },
  {
   "cell_type": "code",
   "execution_count": null,
   "metadata": {},
   "outputs": [],
   "source": [
    "'''Жители страны Малевии часто экспериментируют с планировкой комнат. Комнаты бывают треугольные, прямоугольные и круглые. Чтобы\n",
    "быстро вычислять жилплощадь, требуется написать программу, на вход которой подаётся тип фигуры комнаты и соответствующие параметры,\n",
    "которая бы выводила площадь получившейся комнаты.\n",
    "Для числа π в стране Малевии используют значение 3.14.'''\n",
    "shape = str(input()) #Треугольник, прямоугольник, круг\n",
    "if shape == 'треугольник':\n",
    "    a = float(input())\n",
    "    b = float(input())\n",
    "    c = float(input())\n",
    "    p = (a + b + c) / 2\n",
    "    print((p * (p - a) * (p - b) * (p - c)) ** 0.5)\n",
    "elif shape == 'прямоугольник':\n",
    "    a = float(input())\n",
    "    b = float(input())\n",
    "    print(a * b)\n",
    "elif shape == 'круг':\n",
    "    r = float(input())\n",
    "    print(3.14 * (r ** 2))"
   ]
  },
  {
   "cell_type": "code",
   "execution_count": 1,
   "metadata": {},
   "outputs": [
    {
     "name": "stdout",
     "output_type": "stream",
     "text": [
      "10\n",
      "5\n",
      "8\n"
     ]
    }
   ],
   "source": [
    "'''Напишите программу, которая получает на вход три целых числа, по одному числу в строке, и выводит на консоль в три строки\n",
    "сначала максимальное, потом минимальное, после чего оставшееся число.'''\n",
    "a = 10 #int(input())\n",
    "b = 5 #int(input())\n",
    "c = 8 #int(input())\n",
    "\n",
    "if a >= b and a >= c:\n",
    "#    print('1')\n",
    "    print(a)\n",
    "    if b >= c:\n",
    "        print(c)\n",
    "        print(b)\n",
    "    else:\n",
    "        print(b)\n",
    "        print(c)\n",
    "elif c >= a and c >= b:\n",
    "#    print('2')\n",
    "    print(c)\n",
    "    if b >= a:\n",
    "        print(a)\n",
    "        print(b)\n",
    "    else:\n",
    "        print(b)\n",
    "        print(a)\n",
    "elif b >= a and b >= c:\n",
    "#    print('3')\n",
    "    print(b)\n",
    "    if a >= c:\n",
    "        print(c)\n",
    "        print(a)\n",
    "    else:\n",
    "        print(a)\n",
    "        print(c)"
   ]
  },
  {
   "cell_type": "code",
   "execution_count": 4,
   "metadata": {},
   "outputs": [
    {
     "name": "stdout",
     "output_type": "stream",
     "text": [
      "2 программиста\n"
     ]
    }
   ],
   "source": [
    "'''В институте биоинформатики по офису передвигается робот. Недавно студенты из группы программистов написали для него программу,\n",
    "по которой робот, когда заходит в комнату, считает количество программистов в ней и произносит его вслух: \"n программистов\".'''\n",
    "x = 20 #int(input()) #20 for программистов, 2 for программиста, 21 for программист\n",
    "\n",
    "if ((x % 100) // 10) == 1:\n",
    "    print(x, 'программистов')\n",
    "elif (x % 10) == 0 or (x % 10) >= 5 and (x % 10) <= 9:\n",
    "    print(x, 'программистов')\n",
    "elif (x % 10) == 1:\n",
    "    print(x, 'программист')\n",
    "elif (x % 10) >= 2 or (x % 10) <= 4:\n",
    "    print(x, 'программиста')"
   ]
  },
  {
   "cell_type": "code",
   "execution_count": null,
   "metadata": {},
   "outputs": [],
   "source": [
    "'''Опять какой-то непонятный код из комментов, зато в две строки'''\n",
    "n = int(input())\n",
    "print(n,'программист'+('ов' if n%10==0 or 4<n%10<10 or 10<n%100<15 else 'а' if 1<n%10<5 else ''))"
   ]
  },
  {
   "cell_type": "code",
   "execution_count": 6,
   "metadata": {},
   "outputs": [
    {
     "name": "stdout",
     "output_type": "stream",
     "text": [
      "Обычный\n"
     ]
    }
   ],
   "source": [
    "'''Паша очень любит кататься на общественном транспорте, а получая билет, сразу проверяет, счастливый ли ему попался. Билет считается\n",
    "счастливым, если сумма первых трех цифр совпадает с суммой последних трех цифр номера билета.'''\n",
    "x = 123321 #int(input()) #123321 for счастливый, 123456 for обычный\n",
    "\n",
    "six = x % 10\n",
    "five = x % 100 // 10\n",
    "four = x % 1000 // 100\n",
    "three = x % 10000 // 1000\n",
    "two = x % 100000 // 10000\n",
    "one = x % 1000000 // 100000\n",
    "\n",
    "if (one + two + three) == (four + five + six):\n",
    "    print('Счастливый')\n",
    "else:\n",
    "    print('Обычный')"
   ]
  },
  {
   "cell_type": "code",
   "execution_count": null,
   "metadata": {},
   "outputs": [],
   "source": [
    "'''Оптимизадзыя кода предыдущей задачи'''\n",
    "a, b, c, d, e, f = input()\n",
    "n= int(a)+int (b)+int(c)\n",
    "m= int(d)+int (e)+int(f)\n",
    "if n==m:\n",
    "    print ('Счастливый')\n",
    "else:\n",
    "    print ('Обычный')"
   ]
  },
  {
   "cell_type": "markdown",
   "metadata": {},
   "source": [
    "ГЛАВА 2"
   ]
  },
  {
   "cell_type": "code",
   "execution_count": 7,
   "metadata": {},
   "outputs": [
    {
     "name": "stdout",
     "output_type": "stream",
     "text": [
      "21\n"
     ]
    }
   ],
   "source": [
    "'''Напишите программу, которая считывает со стандартного ввода целые числа, по одному числу в строке, и после первого введенного\n",
    "нуля выводит суммуполученных на вход чисел.'''\n",
    "temp, n = 0, 1\n",
    "while n != 0: #или же while n: (!0 - true, 0 - false)\n",
    "    n = int(input())\n",
    "    temp += n #3, 3, 3, 3, 0 = 12\n",
    "print(temp)"
   ]
  },
  {
   "cell_type": "code",
   "execution_count": 9,
   "metadata": {},
   "outputs": [
    {
     "name": "stdout",
     "output_type": "stream",
     "text": [
      "35\n"
     ]
    }
   ],
   "source": [
    "'''В Институте биоинформатики между информатиками и биологами устраивается соревнование. Победителям соревнования достанется большой\n",
    "и вкусный пирог. В команде биологов a человек, а в команде информатиков — b человек.\n",
    "Нужно заранее разрезать пирог таким образом, чтобы можно было раздать кусочки пирога любой команде, выигравшей соревнование, при этом\n",
    "каждому участнику этой команды должно достаться одинаковое число кусочков пирога. И так как не хочется резать пирог на слишком мелкие\n",
    "кусочки, нужно найти минимальное подходящее число.'''\n",
    "a = 7 #int(input())\n",
    "b = 5 #int(input())\n",
    "d = 1\n",
    "while d % a != 0 or d % b != 0:\n",
    "    d += 1\n",
    "print(d)"
   ]
  },
  {
   "cell_type": "code",
   "execution_count": null,
   "metadata": {},
   "outputs": [],
   "source": [
    "'''Напишите программу, которая считывает целые числа с консоли по одному числу в строке.\n",
    "Для каждого введённого числа проверить:\n",
    "если число меньше 10, то пропускаем это число;\n",
    "если число больше 100, то прекращаем считывать числа;\n",
    "в остальных случаях вывести это число обратно на консоль в отдельной строке.'''\n",
    "x = 10\n",
    "while x <= 100:\n",
    "    x = int(input()) #9, 10, 12, 100, 101\n",
    "    if x < 10:\n",
    "        continue\n",
    "    elif x > 100:\n",
    "        break\n",
    "    else:\n",
    "        print(x)"
   ]
  },
  {
   "cell_type": "code",
   "execution_count": null,
   "metadata": {},
   "outputs": [],
   "source": [
    "'''Когда Павел учился в школе, он запоминал таблицу умножения прямоугольными блоками. Для тренировок ему бы очень пригодилась\n",
    "программа, которая показывала бы блок таблицы умножения.'''\n",
    "a = 2 #int(input())\n",
    "b = 5 #int(input())\n",
    "c = 3 #int(input())\n",
    "d = 9 #int(input())\n",
    "\n",
    "print(end='\\t')\n",
    "for i in range(c, d + 1):\n",
    "    print(i, end='\\t')\n",
    "\n",
    "print('')\n",
    "for i in range(a, b + 1):\n",
    "    print(i, end='\\t')\n",
    "    for j in range(c, d + 1):\n",
    "        print(j * i, end='\\t')\n",
    "    print('')"
   ]
  },
  {
   "cell_type": "code",
   "execution_count": null,
   "metadata": {},
   "outputs": [],
   "source": [
    "'''Какое-то запутанное решение предыдущей задачи, хз, мб со временем пойму'''\n",
    "a, b, c, d = int(input()), int(input()), int(input()), int(input())\n",
    "\n",
    "print('', *range(c, d+1), sep='\\t')\n",
    "for i in range(a,b+1):\n",
    "    print(i, *range(i*c,(i*d)+1, i), sep='\\t')"
   ]
  },
  {
   "cell_type": "code",
   "execution_count": 15,
   "metadata": {},
   "outputs": [
    {
     "name": "stdout",
     "output_type": "stream",
     "text": [
      "7.5\n"
     ]
    }
   ],
   "source": [
    "'''Напишите программу, которая считывает с клавиатуры два числа a и b, считает и выводит на консоль среднее арифметическое\n",
    "всех чисел из отрезка [a; b], которые кратны числу 3.'''\n",
    "a = 5 #int(input())\n",
    "b = 9 #int(input())\n",
    "s = 0\n",
    "temp = 0\n",
    "\n",
    "for i in range(a, b + 1):\n",
    "    if i % 3 == 0:\n",
    "        s = s + i\n",
    "        temp = temp + 1\n",
    "\n",
    "print(s / temp)"
   ]
  },
  {
   "cell_type": "code",
   "execution_count": null,
   "metadata": {},
   "outputs": [],
   "source": [
    "'''Я, блять, понятия не имею, как это работает, но это работает'''\n",
    "a, b = int(input()), int(input())\n",
    "a += -a % 3\n",
    "b -= b % 3\n",
    "print((a + b) / 2)"
   ]
  },
  {
   "cell_type": "code",
   "execution_count": 16,
   "metadata": {},
   "outputs": [
    {
     "name": "stdout",
     "output_type": "stream",
     "text": [
      "40.0\n"
     ]
    }
   ],
   "source": [
    "'''Напишите программу, которая вычисляет процентное содержание символов G (гуанин) и C (цитозин) в введенной строке\n",
    "(программа не должна зависеть от регистра вводимых символов).'''\n",
    "s = 'acggtgttat' #input().lower()\n",
    "gc = s.count('g') + s.count('c')\n",
    "print(gc / len(s) * 100)"
   ]
  },
  {
   "cell_type": "code",
   "execution_count": null,
   "metadata": {},
   "outputs": [],
   "source": [
    "'''\n",
    "Палиндром\n",
    "ввод: GATTAG\n",
    "вывод: YES\n",
    "\n",
    "ввод: GATTACA\n",
    "вывод: NO\n",
    "'''\n",
    "s = input()\n",
    "i = 0\n",
    "j = len(s) - 1\n",
    "is_palindrom = True\n",
    "while i < j:\n",
    "    if s[i] != s[j]:\n",
    "        is_palindrom = False\n",
    "    i += 1\n",
    "    j -= 1\n",
    "if is_palindrom:\n",
    "    print('YES')\n",
    "else:\n",
    "    print('NO')"
   ]
  },
  {
   "cell_type": "code",
   "execution_count": 17,
   "metadata": {},
   "outputs": [
    {
     "name": "stdout",
     "output_type": "stream",
     "text": [
      "a4b2c1a2\n"
     ]
    }
   ],
   "source": [
    "'''Напишите программу, которая считывает строку, кодирует её предложенным алгоритмом и выводит закодированную последовательность\n",
    "на стандартный вывод. Кодирование должно учитывать регистр символов.'''\n",
    "s = 'aaaabbcaa' #input()\n",
    "counter = 1\n",
    "i = 0\n",
    "while i < len(s):\n",
    "    #print(s[i])\n",
    "    if (i == len(s) - 1):\n",
    "        print(s[i], end='')\n",
    "        print(counter)\n",
    "    elif (s[i+1] == s[i]):\n",
    "        counter += 1\n",
    "    elif (s[i] != s[i+1]):\n",
    "        print(s[i], end='')\n",
    "        print(counter, end='')\n",
    "        counter = 1\n",
    "        \n",
    "    i+=1"
   ]
  },
  {
   "cell_type": "code",
   "execution_count": 18,
   "metadata": {},
   "outputs": [
    {
     "name": "stdout",
     "output_type": "stream",
     "text": [
      "6\n"
     ]
    }
   ],
   "source": [
    "'''Напишите программу, на вход которой подается одна строка с целыми числами. Программа должна вывести сумму этих чисел.'''\n",
    "s = [1, 2, 3] #[int(i) for i in input().split()]\n",
    "summa = 0\n",
    "for i in range(len(s)):\n",
    "    summa += int(s[i])\n",
    "print(summa)"
   ]
  },
  {
   "cell_type": "code",
   "execution_count": 19,
   "metadata": {},
   "outputs": [
    {
     "name": "stdout",
     "output_type": "stream",
     "text": [
      "13 6 9 15 7\n"
     ]
    }
   ],
   "source": [
    "'''Напишите программу, на вход которой подаётся список чисел одной строкой. Программа должна для каждого элемента этого списка\n",
    "вывести сумму двух его соседей. Для элементов списка, являющихся крайними, одним из соседей считается элемент, находящий на\n",
    "противоположном конце этого списка.'''\n",
    "s = [1, 3, 5, 6, 10] #[int(i) for i in input().split()]\n",
    "for i in range(len(s)):\n",
    "    if len(s) < 2:\n",
    "        print(s[i])\n",
    "    elif len(s) < 3:\n",
    "        print(s[1] * 2, s[0] * 2)\n",
    "        break\n",
    "    elif i == 0:\n",
    "        print(s[-1] + s[i + 1], end=' ')\n",
    "    elif i == len(s) - 1:\n",
    "        print(s[-2] + s[0])\n",
    "    else:\n",
    "        print(s[i - 1] + s[i + 1], end=' ')"
   ]
  },
  {
   "cell_type": "code",
   "execution_count": null,
   "metadata": {},
   "outputs": [],
   "source": [
    "'''Что-то по-математически'''\n",
    "src = [int(i) for i in input().split()]\n",
    "if len(src) == 1:\n",
    "    print(src[0])\n",
    "else:\n",
    "    [print( src[i-1] + src[(i+1) % len(src)] ,end=' ') for i in range(len(src))]\n",
    "    # выражение src[(i+1) % len(src)] на выходе для src = [1, 3, 5, 6, 10] даст [3, 5, 6, 10, 1]\n",
    "    # потому, что (i+1) % len(src) даёт 1 2 3 4 0\n",
    "    # т.е. таким образом 0й элемент оказывается в конце списка (как будто повернули циферблат)\n",
    "    # таким образом если при обращении к i+1 случится выход за границу диапазона для последнего элемента\n",
    "    # то при обращении к (i+1) % len(src) элементу выхода не произойдет\n",
    "    # поэтому складывая -1й элемент с [(i+1) % len(src)]-тым элементом\n",
    "    # мы выполним условие найти сумму предыдущего и следующего элементов\n",
    "    # [print( src[(i+1) % len(src)]) for i in range(len(src))]"
   ]
  },
  {
   "cell_type": "code",
   "execution_count": 25,
   "metadata": {},
   "outputs": [
    {
     "name": "stdout",
     "output_type": "stream",
     "text": [
      "0 3 4 "
     ]
    }
   ],
   "source": [
    "'''Напишите программу, которая принимает на вход список чисел в одной строке и выводит на экран в одну строку значения, которые\n",
    "встречаются в нём более одного раза.'''\n",
    "# 4 8 0 3 4 2 0 3\n",
    "# 0 0 2 3 3 4 4 8\n",
    "# 0 3 4\n",
    "\n",
    "# 1 1 1 1 2 2 2 2 3 4 4 5\n",
    "# 1 2 4\n",
    "\n",
    "s = [4, 8, 0, 3, 4, 2, 0, 3] #[int(i) for i in input().split()]\n",
    "s.sort()\n",
    "counter = 1\n",
    "i = 0\n",
    "while i < len(s):\n",
    "    if (i == len(s) - 1):\n",
    "        if counter > 1:\n",
    "            print(s[i], end=' ')\n",
    "    elif (s[i+1] == s[i]):\n",
    "        counter += 1\n",
    "    elif (s[i] != s[i+1]):\n",
    "        if counter > 1:\n",
    "            print(s[i], end=' ')\n",
    "        counter = 1\n",
    "    i+=1"
   ]
  },
  {
   "cell_type": "code",
   "execution_count": null,
   "metadata": {},
   "outputs": [],
   "source": [
    "'''САПЕР'''\n",
    "n, m, k = (int(i) for i in input().split())  # чтение размеров поля и числа мин\n",
    "a = [[0 for j in range(m)] for i in range(n)]  # заполнение поля нулями\n",
    "for i in range(k):\n",
    "    row, col = (int(i) - 1 for i in input().split())\n",
    "    a[row][col] = -1  # расставляем мины\n",
    "for i in range(n):\n",
    "    for j in range(m):\n",
    "        if a[i][j] == 0:  # в этой клетке мины нет, поэтому считаем число мин вокруг\n",
    "            for di in range(-1, 2):\n",
    "                for dj in range(-1, 2):\n",
    "                    ai = i + di\n",
    "                    aj = j + dj\n",
    "                    # (ai, aj)\n",
    "                    if 0 <= ai < n and 0 <= aj < m and a[ai][aj] == -1:\n",
    "                        a[i][j] += 1\n",
    "# вывод результата\n",
    "for i in range(n):\n",
    "    for j in range(m):\n",
    "        if a[i][j] == -1:\n",
    "            print('*', end='')\n",
    "        elif a[i][j] == 0:\n",
    "            print('.', end='')\n",
    "        else:\n",
    "            print(a[i][j], end='')\n",
    "    print()"
   ]
  },
  {
   "cell_type": "code",
   "execution_count": 26,
   "metadata": {},
   "outputs": [
    {
     "name": "stdout",
     "output_type": "stream",
     "text": [
      "340\n"
     ]
    }
   ],
   "source": [
    "'''Напишите программу, которая считывает с консоли числа (по одному в строке) до тех пор, пока сумма введённых чисел не будет\n",
    "равна 0 и сразу после этого выводит сумму квадратов всех считанных чисел.\n",
    "Гарантируется, что в какой-то момент сумма введённых чисел окажется равной 0, после этого считывание продолжать не нужно.'''\n",
    "list = []\n",
    "summa = int(input()) # 1 -3 5 -6 -10 13 4 -8\n",
    "if summa != 0: list += [summa]\n",
    "while summa != 0:\n",
    "    number = int(input())\n",
    "    list += [number]\n",
    "    summa += number\n",
    "summa = 0\n",
    "for i in range(len(list)):\n",
    "    summa += list[i] * list[i]\n",
    "print(summa)"
   ]
  },
  {
   "cell_type": "code",
   "execution_count": 27,
   "metadata": {},
   "outputs": [
    {
     "name": "stdout",
     "output_type": "stream",
     "text": [
      "1 2 2 3 3 3 4 "
     ]
    }
   ],
   "source": [
    "'''Напишите программу, которая выводит часть последовательности 1 2 2 3 3 3 4 4 4 4 5 5 5 5 5 ... (число повторяется столько\n",
    "раз, чему равно). На вход программе передаётся неотрицательное целое число n — столько элементов последовательности должна\n",
    "отобразить программа. На выходе ожидается последовательность чисел, записанных через пробел в одну строку.'''\n",
    "#Пиздец, конечно, я говнокодер...\n",
    "number = 7 #int(input())\n",
    "temp = []\n",
    "if number != 1 and number != 2:\n",
    "    for i in range(number):\n",
    "        for j in range(i):\n",
    "            temp += [i]\n",
    "    for i in range(number):\n",
    "        print(temp[i], end=' ')\n",
    "elif number == 2: print(1, 2)\n",
    "else: print(number)"
   ]
  },
  {
   "cell_type": "code",
   "execution_count": null,
   "metadata": {},
   "outputs": [],
   "source": [
    "'''Нормальное решение предыдущего задания'''\n",
    "n = int(input())\n",
    "a = []\n",
    "i = 0\n",
    "while len(a) < n:\n",
    "    a += [i] * i\n",
    "    i += 1\n",
    "print(*a[:n])"
   ]
  },
  {
   "cell_type": "code",
   "execution_count": 28,
   "metadata": {},
   "outputs": [
    {
     "name": "stdout",
     "output_type": "stream",
     "text": [
      "1 4 5 "
     ]
    }
   ],
   "source": [
    "'''Напишите программу, которая считывает список чисел lst из первой строки и число x из второй строки, которая выводит\n",
    "все позиции, на которых встречается число xx в переданном списке lst.\n",
    "Позиции нумеруются с нуля, если число x не встречается в списке, вывести строку \"Отсутствует\" (без кавычек, с большой буквы).\n",
    "Позиции должны быть выведены в одну строку, по возрастанию абсолютного значения.'''\n",
    "lst = [5, 8, 2, 7, 8, 8, 2, 4] #[int(i) for i in input().split()]\n",
    "x = 8 #int(input())\n",
    "counter = 0\n",
    "subcounter = 0\n",
    "for i in range(len(lst)):\n",
    "    if x == lst[i]:\n",
    "        print(counter, end=' ')\n",
    "        subcounter += 1\n",
    "    counter += 1\n",
    "if subcounter == 0: print('Отсутствует')"
   ]
  },
  {
   "cell_type": "code",
   "execution_count": null,
   "metadata": {},
   "outputs": [],
   "source": [
    "'''Напишите программу, на вход которой подаётся прямоугольная матрица в виде последовательности строк. После последней строки\n",
    "матрицы идёт строка, содержащая только строку \"end\" (без кавычек, см. Sample Input).\n",
    "Программа должна вывести матрицу того же размера, у которой каждый элемент в позиции i, j равен сумме элементов первой матрицы\n",
    "на позициях (i-1, j), (i+1, j), (i, j-1), (i, j+1). У крайних символов соседний элемент находится с противоположной стороны матрицы.\n",
    "В случае одной строки/столбца элемент сам себе является соседом по соответствующему направлению.'''\n",
    "# 9 5 3\n",
    "# 0 7 -1\n",
    "#-5 2 9\n",
    "list = []\n",
    "x = []\n",
    "while x != 'end':\n",
    "    x = input()\n",
    "    if x != 'end':\n",
    "        x = x.split()\n",
    "        x = [int(i) for i in x]\n",
    "        list.append(x)\n",
    "    else: break\n",
    "        \n",
    "for i in range(len(list)):\n",
    "    for j in range(len(list[i])):\n",
    "        print(list[i - 1][j] + list[(i + 1) % len(list)][j] + list[i][j - 1] + list[i][(j + 1) % len(list[i])], end=' ')\n",
    "    print()"
   ]
  },
  {
   "cell_type": "code",
   "execution_count": null,
   "metadata": {},
   "outputs": [],
   "source": [
    "'''Выведите таблицу размером n × n, заполненную числами от 1 до n^2n по спирали, выходящей из левого верхнего угла и\n",
    "закрученной по часовой стрелке, как показано в примере (здесь n=5):'''\n",
    "#Я осилил эту ебучую спираль... Теперь меня возьмут в фейсбук :D\n",
    "x = 7 #int(input())\n",
    "temp = [[0] * x for i in range(x)]\n",
    "\n",
    "a = 1\n",
    "min = 0\n",
    "max = x - 1\n",
    "for i in range(x//2):\n",
    "    for j in range(min, max - min):\n",
    "        temp[min][j] = a\n",
    "        a += 1\n",
    "    for j in range(min, max - min):\n",
    "        temp[j][max - min] = a\n",
    "        a += 1\n",
    "    for j in range(-max + min, -min):\n",
    "        temp[max - min][-j] = a\n",
    "        a += 1\n",
    "    for j in range(-max + min, -min):\n",
    "        temp[-j][min] = a\n",
    "        a += 1 \n",
    "    min += 1\n",
    "    \n",
    "if x % 2 !=0:\n",
    "    temp[x//2][x//2] = a\n",
    "        \n",
    "for i in range(0, len(temp)):   #Вывод списка\n",
    "    for j in range(len(temp[i])):\n",
    "        print(temp[i][j], end=' ')\n",
    "    print()"
   ]
  },
  {
   "cell_type": "markdown",
   "metadata": {},
   "source": [
    "ГЛАВА 3"
   ]
  },
  {
   "cell_type": "code",
   "execution_count": null,
   "metadata": {},
   "outputs": [],
   "source": [
    "'''Кастомный рейндж. По сути тот же самый range, но это пример функции'''\n",
    "def my_range(start, stop, step=1):\n",
    "    res = []\n",
    "    if step > 0:\n",
    "        x = start\n",
    "        while x < stop:\n",
    "            res += [x]\n",
    "            x += step\n",
    "    elif step < 0:\n",
    "        x = start\n",
    "        while x > stop:\n",
    "            res += [x]\n",
    "            x += step\n",
    "    return res\n",
    "\n",
    "print(my_range(1, 6))\n",
    "print(my_range(1, 6, 2))"
   ]
  },
  {
   "cell_type": "code",
   "execution_count": 31,
   "metadata": {},
   "outputs": [
    {
     "name": "stdout",
     "output_type": "stream",
     "text": [
      "13.25\n"
     ]
    }
   ],
   "source": [
    "'''Напишите функцию f(x), которая возвращает значение следующей функции, определённой на всей числовой прямой'''\n",
    "def f(x):\n",
    "    if x <= -2:\n",
    "        return 1 - ((x + 2) ** 2)\n",
    "    elif -2 < x <= 2:\n",
    "        return -(x/2)\n",
    "    elif 2 < x:\n",
    "        return ((x - 2) ** 2) + 1\n",
    "    \n",
    "print(f(5.5)) #float(input())))"
   ]
  },
  {
   "cell_type": "code",
   "execution_count": 32,
   "metadata": {},
   "outputs": [
    {
     "name": "stdout",
     "output_type": "stream",
     "text": [
      "[5, 4]\n"
     ]
    }
   ],
   "source": [
    "'''Напишите функцию modify_list(l), которая принимает на вход список целых чисел, удаляет из него все нечётные значения, а\n",
    "чётные нацело делит на два. Функция не должна ничего возвращать, требуется только изменение переданного списка'''\n",
    "lst = [10, 5, 8, 3]\n",
    "\n",
    "def modify_list(l):\n",
    "    temp = []\n",
    "    for i in range(len(l)):\n",
    "        if l[i] % 2 == 0:\n",
    "            temp.append(l[i] // 2)\n",
    "    l.clear()\n",
    "    for i in range(len(temp)):\n",
    "        l.append(temp[i])\n",
    "    return l\n",
    "\n",
    "modify_list(lst)\n",
    "print(lst)"
   ]
  },
  {
   "cell_type": "code",
   "execution_count": 33,
   "metadata": {},
   "outputs": [
    {
     "name": "stdout",
     "output_type": "stream",
     "text": [
      "[5, 4]\n"
     ]
    }
   ],
   "source": [
    "'''Здесь шел думательный процесс'''\n",
    "lst = [10, 5, 8, 3]\n",
    "temp = []\n",
    "for i in range(len(lst)):\n",
    "    if lst[i] % 2 == 0:\n",
    "        temp.append(lst[i] // 2)\n",
    "lst.clear()\n",
    "for i in range(len(temp)):\n",
    "    lst.append(temp[i])\n",
    "\n",
    "print(lst)"
   ]
  },
  {
   "cell_type": "code",
   "execution_count": 37,
   "metadata": {},
   "outputs": [
    {
     "name": "stdout",
     "output_type": "stream",
     "text": [
      "{2: [-1]}\n",
      "{2: [-1, -2]}\n",
      "{2: [-1, -2, -3]}\n"
     ]
    }
   ],
   "source": [
    "'''Напишите функцию update_dictionary(d, key, value), которая принимает на вход словарь d и два числа: key и value.\n",
    "Если ключ key есть в словаре d, то добавьте значение value в список, который хранится по этому ключу.\n",
    "Если ключа key нет в словаре, то нужно добавить значение в список по ключу 2 * key. Если и ключа 2 * key нет, то нужно добавить\n",
    "ключ 2 * key в словарь и сопоставить ему список из переданного элемента [value].'''\n",
    "dict = {}\n",
    "\n",
    "def update_dictionary(d, key, value):\n",
    "    if key in d:\n",
    "        d[key].append(value)\n",
    "    elif key not in d:\n",
    "        if 2 * key in d:\n",
    "            d[2 * key].append(value)\n",
    "        else:\n",
    "            d[2 * key] = [value]\n",
    "\n",
    "update_dictionary(dict, 1, -1)\n",
    "print(dict)\n",
    "update_dictionary(dict, 2, -2)\n",
    "print(dict)\n",
    "update_dictionary(dict, 1, -3)\n",
    "print(dict)"
   ]
  },
  {
   "cell_type": "code",
   "execution_count": null,
   "metadata": {},
   "outputs": [],
   "source": [
    "'''Когда Антон прочитал «Войну и мир», ему стало интересно, сколько слов и в каком количестве используется в этой книге.\n",
    "Помогите Антону написать упрощённую версию такой программы, которая сможет подсчитать слова, разделённые пробелом и вывести\n",
    "получившуюся статистику.\n",
    "Программа должна считывать одну строку со стандартного ввода и выводить для каждого уникального слова в этой строке число\n",
    "его повторений (без учёта регистра) в формате \"слово количество\" (см. пример вывода).\n",
    "Порядок вывода слов может быть произвольным, каждое уникальное слово должно выводиться только один раз.'''\n",
    "basket = ['a', 'aa', 'abc', 'aa', 'ac', 'abc', 'bcd', 'a'] #input().lower().split()\n",
    "dict = {}\n",
    "for i in basket:\n",
    "    if i in dict:\n",
    "        dict[i] += 1\n",
    "    else: dict[i] = 1\n",
    "for key, value in dict.items():\n",
    "    print(key, value)"
   ]
  },
  {
   "cell_type": "code",
   "execution_count": 42,
   "metadata": {},
   "outputs": [
    {
     "name": "stdout",
     "output_type": "stream",
     "text": [
      "25\n",
      "144\n",
      "81\n",
      "400\n",
      "144\n"
     ]
    }
   ],
   "source": [
    "'''Напишите программу, которая считывает строку с числом n, которое задаёт количество чисел, которые нужно считать. Далее\n",
    "считывает n строк с числами Xi​, по одному числу в каждой строке. Итого будет n + 1 строк.\n",
    "При считывании числа Xi программа должна на отдельной строке вывести значение f(Xi). Функция f(x) уже реализована и\n",
    "доступна для вызова. \n",
    "Функция вычисляется достаточно долго и зависит только от переданного аргумента xx. Для того, чтобы уложиться в ограничение\n",
    "по времени, нужно избежать повторного вычисления значений.'''\n",
    "#Функция условная, создана для проверки работоспособности, в ТЗ она была скрыта\n",
    "def f(x):\n",
    "    return x * x\n",
    "\n",
    "dict = {}\n",
    "x = 5 #int(input())\n",
    "temp = []\n",
    "for i in range(x):\n",
    "    temp.append(int(input())) # 5 random nubers, e.g. 5 12 9 20 12\n",
    "\n",
    "for i in temp:\n",
    "    if i not in dict:\n",
    "        dict[i] = f(i)\n",
    "        print(dict[i])\n",
    "    elif i in dict:\n",
    "        print(dict[i])"
   ]
  },
  {
   "cell_type": "code",
   "execution_count": 44,
   "metadata": {},
   "outputs": [
    {
     "name": "stdout",
     "output_type": "stream",
     "text": [
      "aaaabbcaa\n"
     ]
    }
   ],
   "source": [
    "'''Напишите программу, которая считывает из файла строку, соответствующую тексту, сжатому с помощью кодирования повторов, и\n",
    "производит обратную операцию, получая исходный текст.\n",
    "Запишите полученный текст в файл и прикрепите его, как ответ на это задание.\n",
    "В исходном тексте не встречаются цифры, так что код однозначно интерпретируем.'''\n",
    "s = 'a4b2c1a2' #input()\n",
    "tmpOut = str()\n",
    "tempLetter = str()\n",
    "tempNumber = \"0\"\n",
    "for i in s:\n",
    "    if i >= 'A':\n",
    "        tmpOut += tempLetter * int(tempNumber)\n",
    "        tempLetter = i\n",
    "        tempNumber = \"0\"\n",
    "    else:\n",
    "        tempNumber += i\n",
    "tmpOut += tempLetter * int(tempNumber)\n",
    "\n",
    "print(tmpOut)    "
   ]
  },
  {
   "cell_type": "code",
   "execution_count": 48,
   "metadata": {},
   "outputs": [
    {
     "name": "stdout",
     "output_type": "stream",
     "text": [
      "abc 3\n"
     ]
    }
   ],
   "source": [
    "'''Напишите программу, которая считывает текст из файла (в файле может быть больше одной строки) и выводит самое частое слово\n",
    "в этом тексте и через пробел то, сколько раз оно встретилось. Если таких слов несколько, вывести лексикографически первое\n",
    "(можно использовать оператор < для строк).\n",
    "Слова, написанные в разных регистрах, считаются одинаковыми.'''\n",
    "basket = ['abc', 'a' 'bcd', 'bc', 'abc', 'bc', 'bcd', 'bcd', 'abc'] #input().lower().split()\n",
    "dict = {}\n",
    "for i in basket:\n",
    "    if i in dict:\n",
    "        dict[i] += 1\n",
    "    else: dict[i] = 1\n",
    "a = ''\n",
    "b = 0\n",
    "for key, value in dict.items():\n",
    "    if value > b:\n",
    "        a = key\n",
    "        b = value\n",
    "    else:\n",
    "        continue\n",
    "\n",
    "print(a, b)"
   ]
  },
  {
   "cell_type": "code",
   "execution_count": null,
   "metadata": {},
   "outputs": [],
   "source": [
    "'''Имеется файл с данными по успеваемости абитуриентов. Он представляет из себя набор строк, где в каждой строке записана\n",
    "следующая информация: Фамилия;Оценка_по_математике;Оценка_по_физике;Оценка_по_русскому_языку\n",
    "Поля внутри строки разделены точкой с запятой, оценки — целые числа.\n",
    "Напишите программу, которая считывает исходный файл с подобной структурой и для каждого абитуриента записывает его среднюю\n",
    "оценку по трём предметам на отдельной строке, соответствующей этому абитуриенту, в файл с ответом.\n",
    "Также вычислите средние баллы по математике, физике и русскому языку по всем абитуриентам и добавьте полученные значения,\n",
    "разделённые пробелом, последней строкой в файл с ответом.'''\n",
    "dict = {}\n",
    "inp = ['a']\n",
    "a, b, c, k = 0, 0, 0, 0\n",
    "with open(r\"C:\\Users\\sheme\\Downloads\\dataset_3363_4.txt\") as inf, open('result.txt', 'w') as ouf:\n",
    "    for line in inf:\n",
    "        line = line.strip()\n",
    "        inp = line.split(';')\n",
    "        dict[inp[0]] = [inp[1], inp[2], inp[3]]\n",
    "        a += int(dict[inp[0]][0])\n",
    "        b += int(dict[inp[0]][1])\n",
    "        c += int(dict[inp[0]][2])\n",
    "        k += 1\n",
    "        arifm = (int(dict[inp[0]][0]) + int(dict[inp[0]][1]) + int(dict[inp[0]][2])) / 3\n",
    "        ouf.write(str(round(arifm, 9)) + '\\n')\n",
    "with open('result.txt', 'a') as ouf:\n",
    "    ouf.write(str(round(a / k, 9)) + ' ' + str(round(b / k, 9)) + ' ' + str(round(c / k, 9)))\n",
    "    \n",
    "print('Done!')"
   ]
  },
  {
   "cell_type": "code",
   "execution_count": 49,
   "metadata": {},
   "outputs": [
    {
     "name": "stdout",
     "output_type": "stream",
     "text": [
      "7.728317927830891\n"
     ]
    }
   ],
   "source": [
    "'''Напишите программу, которая подключает модуль math и, используя значение числа π из этого модуля, находит для переданного\n",
    "ей на стандартный ввод радиуса круга периметр этого круга и выводит его на стандартный вывод.'''\n",
    "import math\n",
    "\n",
    "r = 1.23 #float(input())\n",
    "print(2 * math.pi * r)"
   ]
  },
  {
   "cell_type": "code",
   "execution_count": null,
   "metadata": {},
   "outputs": [],
   "source": [
    "'''Напишите программу, которая запускается из консоли и печатает значения всех переданных аргументов на экран (имя скрипта\n",
    "выводить не нужно). Не изменяйте порядок аргументов при выводе.\n",
    "Для доступа к аргументам командной строки программы подключите модуль sys и используйте переменную argv из этого модуля.'''\n",
    "#command prompt> pyhton file_name.py arg1 arg2 ... argn\n",
    "#args\n",
    "import sys\n",
    "temp = sys.argv\n",
    "for i in range(1, len(temp)):\n",
    "    print(temp[i], end=' ')"
   ]
  },
  {
   "cell_type": "code",
   "execution_count": 57,
   "metadata": {},
   "outputs": [
    {
     "name": "stdout",
     "output_type": "stream",
     "text": [
      "!@!#!@!$!@!\n",
      "cabadab"
     ]
    }
   ],
   "source": [
    "'''Напишите программу, которая умеет шифровать и расшифровывать шифр подстановки. Программа принимает на вход две строки\n",
    "одинаковой длины, на первой строке записаны символы исходного алфавита, на второй строке — символы конечного алфавита, после\n",
    "чего идёт строка, которую нужно зашифровать переданным ключом, и ещё одна строка, которую нужно расшифровать.'''\n",
    "s1 = 'abcd' #input()\n",
    "s2 = '!@#$' #input()\n",
    "x = ['a', 'b', 'a', 'c', 'a', 'b', 'a', 'd', 'a', 'b', 'a'] #list(input())\n",
    "y = ['#', '!', '@', '!', '$', '!', '@'] #list(input())\n",
    "for i in range(len(x)):\n",
    "    for j in range(len(s1)):\n",
    "        if x[i] == s1[j]:\n",
    "            x[i] = s2[j]\n",
    "            break\n",
    "for i in range(len(y)):\n",
    "    for j in range(len(s2)):\n",
    "        if y[i] == s2[j]:\n",
    "            y[i] = s1[j]\n",
    "            break\n",
    "\n",
    "for i in range(len(x)):\n",
    "    print(x[i], end='')\n",
    "print()\n",
    "for i in range(len(y)):\n",
    "    print(y[i], end='')"
   ]
  },
  {
   "cell_type": "code",
   "execution_count": null,
   "metadata": {},
   "outputs": [],
   "source": [
    "'''Написать программу, которая выведет точку, в которой окажется черепашка после всех команд. Для простоты они решили считать,\n",
    "что движение начинается в точке (0, 0), и движение на восток увеличивает первую координату, а на север — вторую.\n",
    "Программе подаётся на вход число команд nn, которые нужно выполнить черепашке, после чего nn строк с самими командами. Вывести\n",
    "нужно два числа в одну строку: первую и вторую координату конечной точки черепашки. Все координаты целочисленные.'''\n",
    "x = 3 #int(input())\n",
    "matrix = [0, 0]\n",
    "for i in range(x):\n",
    "    a = input().split() #направление значение\n",
    "    if a[0] == 'север':\n",
    "        matrix[1] += int(a[1])\n",
    "    elif a[0] == 'запад':\n",
    "        matrix[0] -= int(a[1])\n",
    "    elif a[0] == 'юг':\n",
    "        matrix[1] -= int(a[1])\n",
    "    else: matrix[0] += int(a[1])\n",
    "\n",
    "print(*matrix)"
   ]
  }
 ],
 "metadata": {
  "kernelspec": {
   "display_name": "Python 3.10.6 64-bit",
   "language": "python",
   "name": "python3"
  },
  "language_info": {
   "codemirror_mode": {
    "name": "ipython",
    "version": 3
   },
   "file_extension": ".py",
   "mimetype": "text/x-python",
   "name": "python",
   "nbconvert_exporter": "python",
   "pygments_lexer": "ipython3",
   "version": "3.10.6"
  },
  "orig_nbformat": 4,
  "vscode": {
   "interpreter": {
    "hash": "95cdb06e919eab5e2c554174537356ac9b55200d1eb6f880dc25de04343a18ea"
   }
  }
 },
 "nbformat": 4,
 "nbformat_minor": 2
}
